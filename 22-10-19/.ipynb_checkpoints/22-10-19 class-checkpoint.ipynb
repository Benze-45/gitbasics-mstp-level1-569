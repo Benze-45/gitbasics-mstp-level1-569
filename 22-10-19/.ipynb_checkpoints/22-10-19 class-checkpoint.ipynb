{
 "cells": [
  {
   "cell_type": "markdown",
   "metadata": {},
   "source": [
    "# Matplot\n",
    "     1.matplot is a multi-platform data visualization library built on NumPy \n",
    "     arrays and designed to work with the border of SciPy\n",
    "     2.matplot libs consits of lines,bars,histogram...etc;,\n",
    "     3.It was introduced by John Hunter in  2002\n",
    "     4.Matplotlib.org------>official site"
   ]
  },
  {
   "cell_type": "code",
   "execution_count": null,
   "metadata": {},
   "outputs": [],
   "source": [
    "import matplotlib"
   ]
  }
 ],
 "metadata": {
  "kernelspec": {
   "display_name": "Python 3",
   "language": "python",
   "name": "python3"
  },
  "language_info": {
   "codemirror_mode": {
    "name": "ipython",
    "version": 3
   },
   "file_extension": ".py",
   "mimetype": "text/x-python",
   "name": "python",
   "nbconvert_exporter": "python",
   "pygments_lexer": "ipython3",
   "version": "3.7.3"
  }
 },
 "nbformat": 4,
 "nbformat_minor": 2
}
