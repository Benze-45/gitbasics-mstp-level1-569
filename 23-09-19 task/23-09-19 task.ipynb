{
 "cells": [
  {
   "cell_type": "markdown",
   "metadata": {},
   "source": [
    "### Task"
   ]
  },
  {
   "cell_type": "markdown",
   "metadata": {},
   "source": [
    "#### 1.Write a Python program to get a string from a given string where all occurrences of its first char have been changed to '$', except the first char itself. "
   ]
  },
  {
   "cell_type": "code",
   "execution_count": 2,
   "metadata": {},
   "outputs": [
    {
     "name": "stdout",
     "output_type": "stream",
     "text": [
      "resta$t\n"
     ]
    }
   ],
   "source": [
    "r=\"restart\"\n",
    "a=\"r\"\n",
    "b=\"estart\"\n",
    "y=b.replace('r','$',1)\n",
    "print(a+\"\"+y)"
   ]
  },
  {
   "cell_type": "markdown",
   "metadata": {},
   "source": [
    "#### 2.Take a string “Problem Solving Using Python” \n",
    "   ●Find the length of the string \n",
    "   ●Change the string to lowercase \n",
    "   ●Print the string in reverse order \n",
    "   ●Split the string\n",
    "   ●Print the string without spaces \n",
    "   ●Find how many times “s” is repeated in a given string "
   ]
  },
  {
   "cell_type": "code",
   "execution_count": 6,
   "metadata": {},
   "outputs": [
    {
     "name": "stdout",
     "output_type": "stream",
     "text": [
      "28\n",
      "problem solving using python\n",
      "nohtyP gnisu gnivloS melborP\n",
      "['Problem', 'Solving', 'using', 'Python']\n",
      "1\n",
      "problemsolvingusingpython\n"
     ]
    }
   ],
   "source": [
    "a=\"Problem Solving using Python\"\n",
    "print(len(a))\n",
    "print(a.lower())\n",
    "print(a[-1::-1])\n",
    "print(a.split())\n",
    "print(a.count('s'))\n",
    "print(\"problem\"+\"solving\"+\"using\"+\"python\")"
   ]
  },
  {
   "cell_type": "markdown",
   "metadata": {},
   "source": [
    "#### 3.Take a string “python programming by python platforms”\n",
    "●Find how many times “python” is repeated\n"
   ]
  },
  {
   "cell_type": "code",
   "execution_count": 8,
   "metadata": {},
   "outputs": [
    {
     "name": "stdout",
     "output_type": "stream",
     "text": [
      "2\n"
     ]
    }
   ],
   "source": [
    "a=\"python programming by python platforms\"\n",
    "print(a.count(\"python\"))"
   ]
  },
  {
   "cell_type": "code",
   "execution_count": null,
   "metadata": {},
   "outputs": [],
   "source": []
  }
 ],
 "metadata": {
  "kernelspec": {
   "display_name": "Python 3",
   "language": "python",
   "name": "python3"
  },
  "language_info": {
   "codemirror_mode": {
    "name": "ipython",
    "version": 3
   },
   "file_extension": ".py",
   "mimetype": "text/x-python",
   "name": "python",
   "nbconvert_exporter": "python",
   "pygments_lexer": "ipython3",
   "version": "3.7.3"
  }
 },
 "nbformat": 4,
 "nbformat_minor": 2
}
