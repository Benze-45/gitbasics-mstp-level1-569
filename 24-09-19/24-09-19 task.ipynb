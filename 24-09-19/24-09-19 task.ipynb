{
 "cells": [
  {
   "cell_type": "markdown",
   "metadata": {},
   "source": [
    "#### 4. Calculate the square root of a given number"
   ]
  },
  {
   "cell_type": "code",
   "execution_count": 3,
   "metadata": {},
   "outputs": [
    {
     "name": "stdout",
     "output_type": "stream",
     "text": [
      "25\n",
      "5.0\n"
     ]
    }
   ],
   "source": [
    "import math\n",
    "def sqrt(n):\n",
    "    sqrt=(math.sqrt(n))\n",
    "    print(sqrt)\n",
    "n=int(input())\n",
    "sqrt(n)"
   ]
  },
  {
   "cell_type": "markdown",
   "metadata": {},
   "source": [
    "#### 6. A school has following rules for grading system:\n",
    "     1. Below 25 - F\n",
    "     2.25 to 45 - E\n",
    "     3.45 to 50 - D\n",
    "     4.50 to 60 - C\n",
    "     5.60 to 80 - B\n",
    "     6.Above 80 - A"
   ]
  },
  {
   "cell_type": "code",
   "execution_count": 9,
   "metadata": {},
   "outputs": [
    {
     "name": "stdout",
     "output_type": "stream",
     "text": [
      "56\n",
      "C\n"
     ]
    }
   ],
   "source": [
    "def school(n):\n",
    "    if(n<25):\n",
    "        print(\"F\")\n",
    "    elif(n>25 and n<45):\n",
    "        print(\"E\")\n",
    "    elif(n>45 and n<50):\n",
    "        print(\"D\")\n",
    "    elif(n>50 and n<60):\n",
    "        print(\"C\")\n",
    "    elif(n>60 and n<80):\n",
    "        print(\"B\")\n",
    "    else:\n",
    "        print(\"A\")\n",
    "n=int(input())        \n",
    "school(n)        "
   ]
  },
  {
   "cell_type": "markdown",
   "metadata": {},
   "source": [
    "####  1.Check if the number exist in a given range (inputs: number(n), range(lower number and upper number) \n"
   ]
  },
  {
   "cell_type": "code",
   "execution_count": 11,
   "metadata": {},
   "outputs": [
    {
     "ename": "SyntaxError",
     "evalue": "invalid syntax (<ipython-input-11-9e4fd604ab1d>, line 3)",
     "output_type": "error",
     "traceback": [
      "\u001b[1;36m  File \u001b[1;32m\"<ipython-input-11-9e4fd604ab1d>\"\u001b[1;36m, line \u001b[1;32m3\u001b[0m\n\u001b[1;33m    if(a=b):\u001b[0m\n\u001b[1;37m        ^\u001b[0m\n\u001b[1;31mSyntaxError\u001b[0m\u001b[1;31m:\u001b[0m invalid syntax\n"
     ]
    }
   ],
   "source": [
    "def range(n):\n",
    "    if i in range(a,b):\n",
    "        if(a=b):\n",
    "        print(\"n\")\n",
    "n=int(input())\n",
    "    "
   ]
  },
  {
   "cell_type": "markdown",
   "metadata": {},
   "source": [
    "#### 2.Check the number of digits in a given number"
   ]
  },
  {
   "cell_type": "code",
   "execution_count": 39,
   "metadata": {},
   "outputs": [
    {
     "name": "stdout",
     "output_type": "stream",
     "text": [
      "1234\n",
      "4\n"
     ]
    }
   ],
   "source": [
    "def number(n):\n",
    "    a=len(n)\n",
    "    print(a)\n",
    "n=input()\n",
    "number(n)"
   ]
  },
  {
   "cell_type": "markdown",
   "metadata": {},
   "source": [
    "#### 7.Take input of age of 3 people by user and determine oldest and youngest among them. "
   ]
  },
  {
   "cell_type": "code",
   "execution_count": 13,
   "metadata": {},
   "outputs": [
    {
     "name": "stdout",
     "output_type": "stream",
     "text": [
      "20\n",
      "30\n",
      "40\n",
      "oldest 40\n",
      "young 20\n"
     ]
    }
   ],
   "source": [
    "ram=int(input())\n",
    "sam=int(input())\n",
    "mam=int(input())\n",
    "if ram>sam and ram>mam:\n",
    "    oldest=ram\n",
    "elif sam>ram and sam>mam:    \n",
    "    oldest=sam\n",
    "else:\n",
    "    oldest=mam\n",
    "if ram<sam and ram<mam:\n",
    "    young=ram\n",
    "elif sam<ram and sam<mam:    \n",
    "    young=sam \n",
    "print(\"oldest\",oldest)\n",
    "print(\"young\",young)"
   ]
  },
  {
   "cell_type": "markdown",
   "metadata": {},
   "source": [
    "#### 3.Check if the given number is a factor of 1000 "
   ]
  },
  {
   "cell_type": "code",
   "execution_count": 16,
   "metadata": {},
   "outputs": [
    {
     "name": "stdout",
     "output_type": "stream",
     "text": [
      "475358\n",
      "not a factor\n"
     ]
    }
   ],
   "source": [
    "def factor(n):\n",
    "    fact=1\n",
    "    if(n%1000==0):\n",
    "        print(\"factor\")\n",
    "    else:\n",
    "        print(\"not a factor\")\n",
    "n=int(input())\n",
    "factor(n)\n"
   ]
  },
  {
   "cell_type": "markdown",
   "metadata": {},
   "source": [
    "#### 8.A student will not be allowed to sit in exam if his/her attendance is less than 75%.\n",
    "    1.Take following input from user Number of classes held,Number of classes attended.\n",
    "    2.And print percentage of class attended Is student is allowed to sit in exam or not. \n"
   ]
  },
  {
   "cell_type": "code",
   "execution_count": 38,
   "metadata": {},
   "outputs": [
    {
     "name": "stdout",
     "output_type": "stream",
     "text": [
      "76\n",
      "98\n",
      "77.55102040816327\n",
      "allow to exam\n"
     ]
    }
   ],
   "source": [
    "def attendance(ch,ca):\n",
    "    a=((ch/ca)*100)\n",
    "    print(a)\n",
    "    if(a>=75):\n",
    "        print(\"allow to exam\")\n",
    "    else:\n",
    "        print(\"not allowed to exam\")\n",
    "ch=int(input())\n",
    "ca=int(input())\n",
    "attendance(ch,ca)\n",
    "    "
   ]
  },
  {
   "cell_type": "code",
   "execution_count": null,
   "metadata": {},
   "outputs": [],
   "source": []
  }
 ],
 "metadata": {
  "kernelspec": {
   "display_name": "Python 3",
   "language": "python",
   "name": "python3"
  },
  "language_info": {
   "codemirror_mode": {
    "name": "ipython",
    "version": 3
   },
   "file_extension": ".py",
   "mimetype": "text/x-python",
   "name": "python",
   "nbconvert_exporter": "python",
   "pygments_lexer": "ipython3",
   "version": "3.7.3"
  }
 },
 "nbformat": 4,
 "nbformat_minor": 2
}
