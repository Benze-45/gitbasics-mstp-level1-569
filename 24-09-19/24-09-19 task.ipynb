{
 "cells": [
  {
   "cell_type": "markdown",
   "metadata": {},
   "source": [
    "#### Calculate the square root of a given number"
   ]
  },
  {
   "cell_type": "code",
   "execution_count": 3,
   "metadata": {},
   "outputs": [
    {
     "name": "stdout",
     "output_type": "stream",
     "text": [
      "25\n",
      "5.0\n"
     ]
    }
   ],
   "source": [
    "import math\n",
    "def sqrt(n):\n",
    "    sqrt=(math.sqrt(n))\n",
    "    print(sqrt)\n",
    "n=int(input())\n",
    "sqrt(n)"
   ]
  },
  {
   "cell_type": "markdown",
   "metadata": {},
   "source": [
    "#### A school has following rules for grading system:\n"
   ]
  },
  {
   "cell_type": "code",
   "execution_count": 7,
   "metadata": {},
   "outputs": [
    {
     "name": "stdout",
     "output_type": "stream",
     "text": [
      "40\n",
      "F\n"
     ]
    }
   ],
   "source": [
    "def school(n):\n",
    "    if(n>25):\n",
    "        print(\"F\")\n",
    "    elif(n>25 and n>45):\n",
    "        print(\"E\")\n",
    "    elif(n>45 and n>50):\n",
    "        print(\"D\")\n",
    "    elif(n>50 and n>60):\n",
    "        print(\"C\")\n",
    "    elif(n>60 and n>80):\n",
    "        print(\"B\")\n",
    "    else:\n",
    "        print(\"A\")\n",
    "n=int(input())        \n",
    "school(n)        "
   ]
  },
  {
   "cell_type": "code",
   "execution_count": null,
   "metadata": {},
   "outputs": [],
   "source": []
  },
  {
   "cell_type": "code",
   "execution_count": null,
   "metadata": {},
   "outputs": [],
   "source": []
  }
 ],
 "metadata": {
  "kernelspec": {
   "display_name": "Python 3",
   "language": "python",
   "name": "python3"
  },
  "language_info": {
   "codemirror_mode": {
    "name": "ipython",
    "version": 3
   },
   "file_extension": ".py",
   "mimetype": "text/x-python",
   "name": "python",
   "nbconvert_exporter": "python",
   "pygments_lexer": "ipython3",
   "version": "3.7.3"
  }
 },
 "nbformat": 4,
 "nbformat_minor": 2
}
