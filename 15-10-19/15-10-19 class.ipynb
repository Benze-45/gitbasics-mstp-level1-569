{
 "cells": [
  {
   "cell_type": "markdown",
   "metadata": {},
   "source": [
    "#### to create a file"
   ]
  },
  {
   "cell_type": "code",
   "execution_count": 3,
   "metadata": {},
   "outputs": [],
   "source": [
    "filepath=\"content.txt\"\n",
    "def create(filepath):\n",
    "    with open(filepath,'w')as f:\n",
    "        f.write(\"hii\\nhroo\")\n",
    "create(filepath)"
   ]
  },
  {
   "cell_type": "markdown",
   "metadata": {},
   "source": [
    "#### to read a file"
   ]
  },
  {
   "cell_type": "code",
   "execution_count": 16,
   "metadata": {},
   "outputs": [
    {
     "name": "stdout",
     "output_type": "stream",
     "text": [
      "hii\n",
      "hroo\n"
     ]
    }
   ],
   "source": [
    "filepath=\"content.txt\"\n",
    "def readdata(filepath):\n",
    "    with open(filepath,'r')as f:\n",
    "        f1=f.read()\n",
    "        print(f1)\n",
    "readdata(filepath)"
   ]
  },
  {
   "cell_type": "markdown",
   "metadata": {},
   "source": [
    "#### generate a 50 students marks memo"
   ]
  },
  {
   "cell_type": "code",
   "execution_count": 18,
   "metadata": {},
   "outputs": [],
   "source": [
    "filepath=\"studentmarks.txt\"\n",
    "import random\n",
    "def marksmemo(filepath,n):\n",
    "    with open(filepath,'w') as f:\n",
    "        for i in range(n):\n",
    "            f.write(str(random.randint(1,100))+'\\n')\n",
    "marksmemo(filepath,50)"
   ]
  },
  {
   "cell_type": "code",
   "execution_count": 19,
   "metadata": {},
   "outputs": [
    {
     "data": {
      "text/plain": [
       "11"
      ]
     },
     "execution_count": 19,
     "metadata": {},
     "output_type": "execute_result"
    }
   ],
   "source": [
    "import random\n",
    "random.randint(1,100)"
   ]
  },
  {
   "cell_type": "markdown",
   "metadata": {},
   "source": [
    "#### students Average percentage"
   ]
  },
  {
   "cell_type": "code",
   "execution_count": 31,
   "metadata": {},
   "outputs": [
    {
     "name": "stdout",
     "output_type": "stream",
     "text": [
      "2764\n",
      "50\n"
     ]
    },
    {
     "data": {
      "text/plain": [
       "5500"
      ]
     },
     "execution_count": 31,
     "metadata": {},
     "output_type": "execute_result"
    }
   ],
   "source": [
    "filepath=\"studentmarks.txt\"\n",
    "def classavg(filepath):\n",
    "    s=0\n",
    "    c=0\n",
    "    with open(filepath,'r') as f:\n",
    "        f1=f.read()\n",
    "        l=f1.split()\n",
    "        for i in l:\n",
    "            s=s+int(i)\n",
    "            c=c+1\n",
    "        avg=s//c*100\n",
    "        print(s)\n",
    "        print(c)\n",
    "        return avg\n",
    "classavg(filepath)"
   ]
  },
  {
   "cell_type": "markdown",
   "metadata": {},
   "source": [
    "#### class pass percentage"
   ]
  },
  {
   "cell_type": "code",
   "execution_count": 38,
   "metadata": {},
   "outputs": [
    {
     "name": "stdout",
     "output_type": "stream",
     "text": [
      "50\n",
      "76.0\n"
     ]
    }
   ],
   "source": [
    "filepath=\"studentmarks.txt\"\n",
    "def passpercentage(filepath):\n",
    "    passed_count=0\n",
    "    total_count=0\n",
    "    with open(filepath,'r') as f:\n",
    "        filedata=f.read()\n",
    "        for i in filedata.split():\n",
    "            total_count+=1\n",
    "            if int(i)>=35:\n",
    "                passed_count+=1\n",
    "        print(total_count)\n",
    "        print((passed_count/total_count)*100)\n",
    "passpercentage(filepath)\n",
    "            "
   ]
  },
  {
   "cell_type": "markdown",
   "metadata": {},
   "source": [
    "#### highest marks"
   ]
  },
  {
   "cell_type": "code",
   "execution_count": 41,
   "metadata": {},
   "outputs": [
    {
     "name": "stdout",
     "output_type": "stream",
     "text": [
      "99 93 95 100 92 99 "
     ]
    }
   ],
   "source": [
    "filepath=\"studentmarks.txt\"\n",
    "def highestmarks(filepath):\n",
    "    with open(filepath,'r') as f:\n",
    "        f1=f.read()\n",
    "        for i in f1.split():\n",
    "            if int(i)>=90:\n",
    "                print(i,end=\" \")\n",
    "highestmarks(filepath)"
   ]
  },
  {
   "cell_type": "markdown",
   "metadata": {},
   "source": [
    "#### frequency of words"
   ]
  },
  {
   "cell_type": "code",
   "execution_count": 47,
   "metadata": {},
   "outputs": [],
   "source": [
    "filepath=\"content.txt\"\n",
    "def create(filepath):\n",
    "    with open(filepath,'w')as f:\n",
    "        f.write(\"hii\\nhloo\\npython\")\n",
    "create(filepath)"
   ]
  },
  {
   "cell_type": "code",
   "execution_count": null,
   "metadata": {},
   "outputs": [],
   "source": []
  },
  {
   "cell_type": "code",
   "execution_count": null,
   "metadata": {},
   "outputs": [],
   "source": []
  }
 ],
 "metadata": {
  "kernelspec": {
   "display_name": "Python 3",
   "language": "python",
   "name": "python3"
  },
  "language_info": {
   "codemirror_mode": {
    "name": "ipython",
    "version": 3
   },
   "file_extension": ".py",
   "mimetype": "text/x-python",
   "name": "python",
   "nbconvert_exporter": "python",
   "pygments_lexer": "ipython3",
   "version": "3.7.3"
  }
 },
 "nbformat": 4,
 "nbformat_minor": 2
}
