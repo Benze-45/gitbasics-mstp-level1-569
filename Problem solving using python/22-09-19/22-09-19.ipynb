{
 "cells": [
  {
   "cell_type": "code",
   "execution_count": 1,
   "metadata": {},
   "outputs": [
    {
     "name": "stdout",
     "output_type": "stream",
     "text": [
      "5.0\n"
     ]
    }
   ],
   "source": [
    "a=10\n",
    "a/=2\n",
    "print(a)"
   ]
  },
  {
   "cell_type": "code",
   "execution_count": 2,
   "metadata": {},
   "outputs": [
    {
     "name": "stdout",
     "output_type": "stream",
     "text": [
      "0\n"
     ]
    }
   ],
   "source": [
    "c=10\n",
    "c%=2\n",
    "print(c)"
   ]
  },
  {
   "cell_type": "markdown",
   "metadata": {},
   "source": [
    " ## comparison Operators "
   ]
  },
  {
   "cell_type": "code",
   "execution_count": 3,
   "metadata": {},
   "outputs": [
    {
     "name": "stdout",
     "output_type": "stream",
     "text": [
      "False\n",
      "True\n",
      "True\n",
      "False\n"
     ]
    }
   ],
   "source": [
    "a=5\n",
    "b=10\n",
    "print(a>b)\n",
    "print(a<b)\n",
    "print(a!=b)\n",
    "print(a==b)"
   ]
  },
  {
   "cell_type": "markdown",
   "metadata": {},
   "source": [
    "## Logical Operators"
   ]
  },
  {
   "cell_type": "code",
   "execution_count": 4,
   "metadata": {},
   "outputs": [
    {
     "name": "stdout",
     "output_type": "stream",
     "text": [
      "7\n",
      "9\n",
      "False\n",
      "False\n"
     ]
    }
   ],
   "source": [
    "h=9\n",
    "l=7\n",
    "print(h and l)\n",
    "print(h or l)\n",
    "print(not h)\n",
    "print(not l)"
   ]
  },
  {
   "cell_type": "markdown",
   "metadata": {},
   "source": [
    "## Bitwise Operation"
   ]
  },
  {
   "cell_type": "code",
   "execution_count": 5,
   "metadata": {},
   "outputs": [
    {
     "name": "stdout",
     "output_type": "stream",
     "text": [
      "6\n",
      "2\n",
      "4\n",
      "0\n",
      "128\n"
     ]
    }
   ],
   "source": [
    "m=2\n",
    "n=6\n",
    "print(m|n)\n",
    "print(m&n) \n",
    "print(m^n)#xor operation\n",
    "print(m>>n) #shift right\n",
    "print(m<<n) #shift left"
   ]
  },
  {
   "cell_type": "markdown",
   "metadata": {},
   "source": [
    "## Identity Operators"
   ]
  },
  {
   "cell_type": "code",
   "execution_count": 6,
   "metadata": {},
   "outputs": [
    {
     "name": "stdout",
     "output_type": "stream",
     "text": [
      "False\n",
      "True\n"
     ]
    }
   ],
   "source": [
    "x=3\n",
    "y=6\n",
    "print(x is y)\n",
    "print(x is not y)"
   ]
  },
  {
   "cell_type": "markdown",
   "metadata": {},
   "source": [
    "## Membership Operators"
   ]
  },
  {
   "cell_type": "code",
   "execution_count": 7,
   "metadata": {},
   "outputs": [
    {
     "data": {
      "text/plain": [
       "True"
      ]
     },
     "execution_count": 7,
     "metadata": {},
     "output_type": "execute_result"
    }
   ],
   "source": [
    "a=[1,2,3,4,5,6]\n",
    "1 in a"
   ]
  },
  {
   "cell_type": "code",
   "execution_count": 8,
   "metadata": {},
   "outputs": [
    {
     "data": {
      "text/plain": [
       "False"
      ]
     },
     "execution_count": 8,
     "metadata": {},
     "output_type": "execute_result"
    }
   ],
   "source": [
    "5 not in a"
   ]
  },
  {
   "cell_type": "code",
   "execution_count": 9,
   "metadata": {},
   "outputs": [
    {
     "data": {
      "text/plain": [
       "True"
      ]
     },
     "execution_count": 9,
     "metadata": {},
     "output_type": "execute_result"
    }
   ],
   "source": [
    "6 in a"
   ]
  },
  {
   "cell_type": "markdown",
   "metadata": {},
   "source": [
    "## Input/Outputs"
   ]
  },
  {
   "cell_type": "code",
   "execution_count": 10,
   "metadata": {},
   "outputs": [
    {
     "name": "stdout",
     "output_type": "stream",
     "text": [
      "[1, 2, 3, 4, 5, 6]\n"
     ]
    }
   ],
   "source": [
    "print(a)"
   ]
  },
  {
   "cell_type": "code",
   "execution_count": 11,
   "metadata": {},
   "outputs": [
    {
     "name": "stdout",
     "output_type": "stream",
     "text": [
      "enter a number\n",
      "10\n"
     ]
    }
   ],
   "source": [
    "print(\"enter a number\")\n",
    "a=input()"
   ]
  },
  {
   "cell_type": "code",
   "execution_count": 12,
   "metadata": {},
   "outputs": [
    {
     "name": "stdout",
     "output_type": "stream",
     "text": [
      "enter a number30\n"
     ]
    }
   ],
   "source": [
    "b=input(\"enter a number\")"
   ]
  },
  {
   "cell_type": "code",
   "execution_count": 13,
   "metadata": {},
   "outputs": [
    {
     "name": "stdout",
     "output_type": "stream",
     "text": [
      "enter a number20\n",
      "enter a number40\n",
      "enter a number69\n"
     ]
    }
   ],
   "source": [
    "a=input(\"enter a number\")\n",
    "b=input(\"enter a number\")\n",
    "c=input(\"enter a number\")"
   ]
  },
  {
   "cell_type": "code",
   "execution_count": 14,
   "metadata": {},
   "outputs": [
    {
     "name": "stdout",
     "output_type": "stream",
     "text": [
      "20 40 69\n"
     ]
    }
   ],
   "source": [
    "print(a,b,c)"
   ]
  },
  {
   "cell_type": "code",
   "execution_count": 15,
   "metadata": {},
   "outputs": [
    {
     "name": "stdout",
     "output_type": "stream",
     "text": [
      "20\n",
      "40\n",
      "69\n"
     ]
    }
   ],
   "source": [
    "print(a)\n",
    "print(b)\n",
    "print(c)"
   ]
  },
  {
   "cell_type": "code",
   "execution_count": 16,
   "metadata": {},
   "outputs": [
    {
     "name": "stdout",
     "output_type": "stream",
     "text": [
      "20,40,69\n",
      "20:40:69\n",
      "20;40;69\n",
      "20#40#69\n",
      "20fari40fari69\n"
     ]
    }
   ],
   "source": [
    "print(a,b,c,sep=\",\")\n",
    "print(a,b,c,sep=\":\")\n",
    "print(a,b,c,sep=\";\")\n",
    "print(a,b,c,sep=\"#\")\n",
    "print(a,b,c,sep=\"fari\")"
   ]
  },
  {
   "cell_type": "code",
   "execution_count": 17,
   "metadata": {},
   "outputs": [
    {
     "name": "stdout",
     "output_type": "stream",
     "text": [
      "20\t40\t69\t"
     ]
    }
   ],
   "source": [
    "print(a,end=\"\\t\") # tab\n",
    "print(b,end=\"\\t\")\n",
    "print(c,end=\"\\t\")"
   ]
  },
  {
   "cell_type": "code",
   "execution_count": 18,
   "metadata": {},
   "outputs": [
    {
     "name": "stdout",
     "output_type": "stream",
     "text": [
      "enter a number10\n",
      "enter a number20\n",
      "30\n"
     ]
    }
   ],
   "source": [
    "a=input(\"enter a number\")\n",
    "b=input(\"enter a number\")\n",
    "print(int(a)+int(b))"
   ]
  },
  {
   "cell_type": "code",
   "execution_count": 19,
   "metadata": {},
   "outputs": [
    {
     "name": "stdout",
     "output_type": "stream",
     "text": [
      "enter a num20\n",
      "enter a num40\n",
      "60.0\n"
     ]
    }
   ],
   "source": [
    "a=float(input(\"enter a num\"))\n",
    "b=float(input(\"enter a num\"))\n",
    "print(a+b)"
   ]
  },
  {
   "cell_type": "markdown",
   "metadata": {},
   "source": [
    "# Strings"
   ]
  },
  {
   "cell_type": "code",
   "execution_count": 20,
   "metadata": {},
   "outputs": [
    {
     "name": "stdout",
     "output_type": "stream",
     "text": [
      "hello world\n"
     ]
    }
   ],
   "source": [
    "print(\"hello world\")\n"
   ]
  },
  {
   "cell_type": "code",
   "execution_count": 21,
   "metadata": {},
   "outputs": [
    {
     "name": "stdout",
     "output_type": "stream",
     "text": [
      "hello \n",
      " world\n"
     ]
    }
   ],
   "source": [
    "print(\"hello \\n world\")"
   ]
  },
  {
   "cell_type": "code",
   "execution_count": 22,
   "metadata": {},
   "outputs": [
    {
     "name": "stdout",
     "output_type": "stream",
     "text": [
      "fariha\n"
     ]
    }
   ],
   "source": [
    "print('fariha')"
   ]
  },
  {
   "cell_type": "code",
   "execution_count": 23,
   "metadata": {},
   "outputs": [
    {
     "name": "stdout",
     "output_type": "stream",
     "text": [
      "I dont't care\n"
     ]
    }
   ],
   "source": [
    "print('I dont\\'t care')"
   ]
  },
  {
   "cell_type": "code",
   "execution_count": 24,
   "metadata": {},
   "outputs": [
    {
     "name": "stdout",
     "output_type": "stream",
     "text": [
      "fariha\n",
      "tabassum\n",
      "mulla\n"
     ]
    }
   ],
   "source": [
    "print(\"\"\"fariha\n",
    "tabassum\n",
    "mulla\"\"\")"
   ]
  },
  {
   "cell_type": "code",
   "execution_count": 25,
   "metadata": {},
   "outputs": [
    {
     "name": "stdout",
     "output_type": "stream",
     "text": [
      "fariha\n",
      "tabassum\tmulla\n"
     ]
    }
   ],
   "source": [
    "print(\"fariha\\ntabassum\\tmulla\")"
   ]
  },
  {
   "cell_type": "code",
   "execution_count": 26,
   "metadata": {},
   "outputs": [
    {
     "name": "stdout",
     "output_type": "stream",
     "text": [
      "18\n",
      "sum of 8 and 10 is 18\n",
      "sum of 8 and 10 is 18\n"
     ]
    }
   ],
   "source": [
    "a=8\n",
    "b=10\n",
    "print(a+b)\n",
    "print(\"sum of\",a,\"and\",b,\"is\",a+b)\n",
    "print(\"sum of {0} and {1} is {2}\".format(a,b,a+b))"
   ]
  },
  {
   "cell_type": "markdown",
   "metadata": {},
   "source": [
    "## String Slicing"
   ]
  },
  {
   "cell_type": "code",
   "execution_count": 27,
   "metadata": {},
   "outputs": [
    {
     "name": "stdout",
     "output_type": "stream",
     "text": [
      "F a r i h a\n",
      "F\n",
      "a\n",
      "r\n",
      "i\n"
     ]
    }
   ],
   "source": [
    "a=\"Fariha\"\n",
    "print(a[0],a[1],a[2],a[3],a[4],a[5])\n",
    "print(a[0])\n",
    "print(a[1])\n",
    "print(a[2])\n",
    "print(a[3])\n",
    "\n"
   ]
  },
  {
   "cell_type": "code",
   "execution_count": 28,
   "metadata": {},
   "outputs": [
    {
     "name": "stdout",
     "output_type": "stream",
     "text": [
      "Fari"
     ]
    }
   ],
   "source": [
    "a=\"Fariha\"\n",
    "print(a[0],end=\"\")\n",
    "print(a[1],end=\"\")\n",
    "print(a[2],end=\"\")\n",
    "print(a[3],end=\"\")\n"
   ]
  },
  {
   "cell_type": "code",
   "execution_count": 29,
   "metadata": {},
   "outputs": [
    {
     "name": "stdout",
     "output_type": "stream",
     "text": [
      "Fariha\n"
     ]
    }
   ],
   "source": [
    "#a=[start:end:step]    Start-inclusive,end-exclusive\n",
    "print(a[0:6])"
   ]
  },
  {
   "cell_type": "code",
   "execution_count": 30,
   "metadata": {},
   "outputs": [
    {
     "name": "stdout",
     "output_type": "stream",
     "text": [
      "Far\n",
      "\n"
     ]
    }
   ],
   "source": [
    "print(a[:3])\n",
    "print(a[3:1])"
   ]
  },
  {
   "cell_type": "code",
   "execution_count": 31,
   "metadata": {},
   "outputs": [
    {
     "name": "stdout",
     "output_type": "stream",
     "text": [
      "e\n",
      "engineering\n",
      "engineering\n",
      "engineering\n"
     ]
    }
   ],
   "source": [
    "x=\"engineering\"\n",
    "print(x[0])\n",
    "print(x[0::1])\n",
    "print(x[0:len(x):1])\n",
    "print(x[0:len(x)])\n",
    "      \n"
   ]
  },
  {
   "cell_type": "code",
   "execution_count": 32,
   "metadata": {},
   "outputs": [
    {
     "name": "stdout",
     "output_type": "stream",
     "text": [
      "engineering\n"
     ]
    }
   ],
   "source": [
    "print(x[::])"
   ]
  },
  {
   "cell_type": "code",
   "execution_count": 33,
   "metadata": {},
   "outputs": [
    {
     "name": "stdout",
     "output_type": "stream",
     "text": [
      "g\n",
      "n\n"
     ]
    },
    {
     "data": {
      "text/plain": [
       "'gnireenigne'"
      ]
     },
     "execution_count": 33,
     "metadata": {},
     "output_type": "execute_result"
    }
   ],
   "source": [
    "a=\"engineering\"\n",
    "print(a[-1])\n",
    "print(a[-2])\n",
    "a[-1::-1]"
   ]
  },
  {
   "cell_type": "code",
   "execution_count": 34,
   "metadata": {},
   "outputs": [
    {
     "name": "stdout",
     "output_type": "stream",
     "text": [
      "gnireenigne\n",
      "gnireenigne\n"
     ]
    }
   ],
   "source": [
    "print(a[len(a)::-1])\n",
    "print(a[::-1])"
   ]
  },
  {
   "cell_type": "code",
   "execution_count": 35,
   "metadata": {},
   "outputs": [
    {
     "name": "stdout",
     "output_type": "stream",
     "text": [
      "ksagl\n",
      "senwv\n"
     ]
    }
   ],
   "source": [
    "a=\"kvswangels\" #to print alternative characters of string            #a[0]---k\n",
    "print(a[0::2]) #a[0+2]---a[2]--s\n",
    "print(a[::-2])  # to print alternative characters in reverse"
   ]
  },
  {
   "cell_type": "code",
   "execution_count": 36,
   "metadata": {},
   "outputs": [
    {
     "name": "stdout",
     "output_type": "stream",
     "text": [
      "els\n",
      "wangels\n",
      "els\n",
      "els\n"
     ]
    }
   ],
   "source": [
    "print(a[-3::])\n",
    "print(a[3::])\n",
    "print(a[-3:len(a)])\n",
    "print(a[len(a)-3::])"
   ]
  },
  {
   "cell_type": "code",
   "execution_count": 37,
   "metadata": {},
   "outputs": [
    {
     "ename": "SyntaxError",
     "evalue": "EOL while scanning string literal (<ipython-input-37-a057fe83a0ef>, line 3)",
     "output_type": "error",
     "traceback": [
      "\u001b[1;36m  File \u001b[1;32m\"<ipython-input-37-a057fe83a0ef>\"\u001b[1;36m, line \u001b[1;32m3\u001b[0m\n\u001b[1;33m    print(a[len(a)//2:(\"len(a)//2)-2,-1])\u001b[0m\n\u001b[1;37m                                         ^\u001b[0m\n\u001b[1;31mSyntaxError\u001b[0m\u001b[1;31m:\u001b[0m EOL while scanning string literal\n"
     ]
    }
   ],
   "source": [
    "# to find middle character in a string\n",
    "print(len(a))  # length of a string\n",
    "print(a[len(a)//2:(\"len(a)//2)-2,-1])"
   ]
  },
  {
   "cell_type": "code",
   "execution_count": 38,
   "metadata": {},
   "outputs": [
    {
     "name": "stdout",
     "output_type": "stream",
     "text": [
      "KVSWROCKS\n"
     ]
    }
   ],
   "source": [
    "a=\"Kvswrocks\"\n",
    "print(a.upper())"
   ]
  },
  {
   "cell_type": "code",
   "execution_count": 39,
   "metadata": {},
   "outputs": [
    {
     "name": "stdout",
     "output_type": "stream",
     "text": [
      "kvswrocks\n"
     ]
    }
   ],
   "source": [
    "print(a.lower())"
   ]
  },
  {
   "cell_type": "code",
   "execution_count": 40,
   "metadata": {},
   "outputs": [
    {
     "name": "stdout",
     "output_type": "stream",
     "text": [
      "kVSWROCKS\n"
     ]
    }
   ],
   "source": [
    "print(a.swapcase())  #K will be written in lower case "
   ]
  },
  {
   "cell_type": "code",
   "execution_count": 41,
   "metadata": {},
   "outputs": [
    {
     "name": "stdout",
     "output_type": "stream",
     "text": [
      "0\n",
      "5\n"
     ]
    }
   ],
   "source": [
    "a=\"wdgfhjfgbwrjgvhbejgvbeivgh\"\n",
    "print(a.count(\"k\"))\n",
    "print(a.count(\"g\"))"
   ]
  },
  {
   "cell_type": "code",
   "execution_count": null,
   "metadata": {},
   "outputs": [],
   "source": []
  }
 ],
 "metadata": {
  "kernelspec": {
   "display_name": "Python 3",
   "language": "python",
   "name": "python3"
  },
  "language_info": {
   "codemirror_mode": {
    "name": "ipython",
    "version": 3
   },
   "file_extension": ".py",
   "mimetype": "text/x-python",
   "name": "python",
   "nbconvert_exporter": "python",
   "pygments_lexer": "ipython3",
   "version": "3.7.3"
  }
 },
 "nbformat": 4,
 "nbformat_minor": 2
}
